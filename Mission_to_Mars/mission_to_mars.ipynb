{
 "cells": [
  {
   "cell_type": "code",
   "execution_count": 25,
   "metadata": {},
   "outputs": [],
   "source": [
    "import os\n",
    "from splinter import Browser\n",
    "from bs4 import BeautifulSoup as bs\n",
    "import pandas as pd\n"
   ]
  },
  {
   "cell_type": "code",
   "execution_count": 34,
   "metadata": {},
   "outputs": [],
   "source": [
    "# def init_browser():\n",
    "#     \"\"\" create path for browser when scraping Nasa's site\"\"\"\n",
    "#     # Note: Replace the path with your own path to the chromedriver\n",
    "    \n",
    "executable_path = {'executable_path': 'C:/chromedriver'}\n",
    "browser = Browser(\"chrome\", **executable_path, headless=False)"
   ]
  },
  {
   "cell_type": "code",
   "execution_count": 35,
   "metadata": {},
   "outputs": [],
   "source": [
    "# Step 1: Scraping"
   ]
  },
  {
   "cell_type": "code",
   "execution_count": 36,
   "metadata": {},
   "outputs": [],
   "source": [
    "\"\"\"Scraping top headline of Nasa Mars News\"\"\"\n",
    "\n",
    "#Run browser and visit Nasa Mars News site\n",
    "# browser = init_browser()\n",
    "\n",
    "news_url = \"https://mars.nasa.gov/news/\"\n",
    "browser.visit(news_url)\n",
    "\n",
    "# Variables for browser initialization and cleaning data through bs\n",
    "html = browser.html\n",
    "soup = bs(html, \"html.parser\")\n"
   ]
  },
  {
   "cell_type": "code",
   "execution_count": 37,
   "metadata": {},
   "outputs": [
    {
     "name": "stdout",
     "output_type": "stream",
     "text": [
      "Title: NASA's Perseverance Rover Is Midway to Mars  \n",
      "Summary: Sometimes half measures can be a good thing – especially on a journey this long. The agency's latest rover only has about 146 million miles left to reach its destination.\n"
     ]
    }
   ],
   "source": [
    "# Create path to pull title and summary of top headline\n",
    "content_path = soup.find(\"div\", class_= \"list_text\")\n",
    "# c_path = content_path.find(\"div\", class_ = \"content_title\")\n",
    "\n",
    "news_title = content_path.find(\"div\", class_ = \"content_title\").get_text()\n",
    "news_p = content_path.find(\"div\", class_ = \"article_teaser_body\").get_text()\n",
    "\n",
    "#Print title and summary\n",
    "print(f'Title: {news_title}', \n",
    "      f'\\nSummary: {news_p}')\n"
   ]
  },
  {
   "cell_type": "code",
   "execution_count": 49,
   "metadata": {},
   "outputs": [],
   "source": [
    "\"\"\"Scraping featured image from JPL Mars Space Images\"\"\"\n",
    "\n",
    "#Run Browser and visit JPL(jet propultion laboratory) site\n",
    "jpl_url = \"https://jpl.nasa.gov/spaceimages/?search=&category=Mars\"\n",
    "browser.visit(jpl_url)\n",
    "\n",
    "# Variables for browser init and cleaning data through bs\n",
    "jpl_html = browser.html\n",
    "jpl_soup = bs(jpl_html, \"html.parser\")"
   ]
  },
  {
   "cell_type": "code",
   "execution_count": 56,
   "metadata": {},
   "outputs": [
    {
     "name": "stdout",
     "output_type": "stream",
     "text": [
      "featured_image_url = https://jpl.nasa.gov/spaceimages/spaceimages/images/mediumsize/PIA14316_ip.jpg\n"
     ]
    }
   ],
   "source": [
    "# Find the featured image url from jpl_url\n",
    "featured_image_url = jpl_soup.find('div', class_ = \"carousel_container\").article.footer.a[\"data-fancybox-href\"]\n",
    "featured_image_url = f\"https://jpl.nasa.gov/spaceimages{featured_image_url}\"\n",
    "\n",
    "# Print the url for the image\n",
    "print(f\"featured_image_url = {featured_image_url}\")"
   ]
  },
  {
   "cell_type": "code",
   "execution_count": null,
   "metadata": {},
   "outputs": [],
   "source": []
  }
 ],
 "metadata": {
  "kernelspec": {
   "display_name": "Python 3",
   "language": "python",
   "name": "python3"
  },
  "language_info": {
   "codemirror_mode": {
    "name": "ipython",
    "version": 3
   },
   "file_extension": ".py",
   "mimetype": "text/x-python",
   "name": "python",
   "nbconvert_exporter": "python",
   "pygments_lexer": "ipython3",
   "version": "3.7.6"
  }
 },
 "nbformat": 4,
 "nbformat_minor": 4
}
