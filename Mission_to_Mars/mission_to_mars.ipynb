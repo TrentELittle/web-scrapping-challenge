{
 "cells": [
  {
   "cell_type": "code",
   "execution_count": 25,
   "metadata": {},
   "outputs": [],
   "source": [
    "import os\n",
    "from splinter import Browser\n",
    "from bs4 import BeautifulSoup as bs\n",
    "import pandas as pd\n"
   ]
  },
  {
   "cell_type": "code",
   "execution_count": 34,
   "metadata": {},
   "outputs": [],
   "source": [
    "# def init_browser():\n",
    "#     \"\"\" create path for browser when scraping Nasa's site\"\"\"\n",
    "#     # Note: Replace the path with your own path to the chromedriver\n",
    "    \n",
    "executable_path = {'executable_path': 'C:/chromedriver'}\n",
    "browser = Browser(\"chrome\", **executable_path, headless=False)"
   ]
  },
  {
   "cell_type": "code",
   "execution_count": 35,
   "metadata": {},
   "outputs": [],
   "source": [
    "# Step 1: Scraping"
   ]
  },
  {
   "cell_type": "code",
   "execution_count": 36,
   "metadata": {},
   "outputs": [],
   "source": [
    "\"\"\"Scraping top headline of Nasa Mars News\"\"\"\n",
    "\n",
    "#Run browser and visit Nasa Mars News site\n",
    "# browser = init_browser()\n",
    "\n",
    "news_url = \"https://mars.nasa.gov/news/\"\n",
    "browser.visit(news_url)\n",
    "\n",
    "# Variables for browser initialization and cleaning data through bs\n",
    "html = browser.html\n",
    "soup = bs(html, \"html.parser\")\n"
   ]
  },
  {
   "cell_type": "code",
   "execution_count": 37,
   "metadata": {},
   "outputs": [
    {
     "name": "stdout",
     "output_type": "stream",
     "text": [
      "Title: NASA's Perseverance Rover Is Midway to Mars  \n",
      "Summary: Sometimes half measures can be a good thing – especially on a journey this long. The agency's latest rover only has about 146 million miles left to reach its destination.\n"
     ]
    }
   ],
   "source": [
    "# Create path to pull title and summary of top headline\n",
    "content_path = soup.find(\"div\", class_= \"list_text\")\n",
    "# c_path = content_path.find(\"div\", class_ = \"content_title\")\n",
    "\n",
    "news_title = content_path.find(\"div\", class_ = \"content_title\").get_text()\n",
    "news_p = content_path.find(\"div\", class_ = \"article_teaser_body\").get_text()\n",
    "\n",
    "#Print title and summary\n",
    "print(f'Title: {news_title}', \n",
    "      f'\\nSummary: {news_p}')\n"
   ]
  },
  {
   "cell_type": "code",
   "execution_count": 49,
   "metadata": {},
   "outputs": [],
   "source": [
    "\"\"\"Scraping featured image from JPL Mars Space Images\"\"\"\n",
    "\n",
    "#Run Browser and visit JPL(jet propultion laboratory) site\n",
    "jpl_url = \"https://jpl.nasa.gov/spaceimages/?search=&category=Mars\"\n",
    "browser.visit(jpl_url)\n",
    "\n",
    "# Variables for browser init and cleaning data through bs\n",
    "jpl_html = browser.html\n",
    "jpl_soup = bs(jpl_html, \"html.parser\")"
   ]
  },
  {
   "cell_type": "code",
   "execution_count": 56,
   "metadata": {},
   "outputs": [
    {
     "name": "stdout",
     "output_type": "stream",
     "text": [
      "featured_image_url = https://jpl.nasa.gov/spaceimages/spaceimages/images/mediumsize/PIA14316_ip.jpg\n"
     ]
    }
   ],
   "source": [
    "# Find the featured image url from jpl_url\n",
    "featured_image_url = jpl_soup.find('div', class_ = \"carousel_container\").article.footer.a[\"data-fancybox-href\"]\n",
    "featured_image_url = f\"https://jpl.nasa.gov/spaceimages{featured_image_url}\"\n",
    "\n",
    "# Print the url for the image\n",
    "print(f\"featured_image_url = {featured_image_url}\")"
   ]
  },
  {
   "cell_type": "code",
   "execution_count": 64,
   "metadata": {},
   "outputs": [
    {
     "data": {
      "text/html": [
       "<div>\n",
       "<style scoped>\n",
       "    .dataframe tbody tr th:only-of-type {\n",
       "        vertical-align: middle;\n",
       "    }\n",
       "\n",
       "    .dataframe tbody tr th {\n",
       "        vertical-align: top;\n",
       "    }\n",
       "\n",
       "    .dataframe thead th {\n",
       "        text-align: right;\n",
       "    }\n",
       "</style>\n",
       "<table border=\"1\" class=\"dataframe\">\n",
       "  <thead>\n",
       "    <tr style=\"text-align: right;\">\n",
       "      <th></th>\n",
       "      <th>0</th>\n",
       "      <th>1</th>\n",
       "    </tr>\n",
       "  </thead>\n",
       "  <tbody>\n",
       "    <tr>\n",
       "      <th>0</th>\n",
       "      <td>Equatorial Diameter:</td>\n",
       "      <td>6,792 km</td>\n",
       "    </tr>\n",
       "    <tr>\n",
       "      <th>1</th>\n",
       "      <td>Polar Diameter:</td>\n",
       "      <td>6,752 km</td>\n",
       "    </tr>\n",
       "    <tr>\n",
       "      <th>2</th>\n",
       "      <td>Mass:</td>\n",
       "      <td>6.39 × 10^23 kg (0.11 Earths)</td>\n",
       "    </tr>\n",
       "    <tr>\n",
       "      <th>3</th>\n",
       "      <td>Moons:</td>\n",
       "      <td>2 (Phobos &amp; Deimos)</td>\n",
       "    </tr>\n",
       "    <tr>\n",
       "      <th>4</th>\n",
       "      <td>Orbit Distance:</td>\n",
       "      <td>227,943,824 km (1.38 AU)</td>\n",
       "    </tr>\n",
       "    <tr>\n",
       "      <th>5</th>\n",
       "      <td>Orbit Period:</td>\n",
       "      <td>687 days (1.9 years)</td>\n",
       "    </tr>\n",
       "    <tr>\n",
       "      <th>6</th>\n",
       "      <td>Surface Temperature:</td>\n",
       "      <td>-87 to -5 °C</td>\n",
       "    </tr>\n",
       "    <tr>\n",
       "      <th>7</th>\n",
       "      <td>First Record:</td>\n",
       "      <td>2nd millennium BC</td>\n",
       "    </tr>\n",
       "    <tr>\n",
       "      <th>8</th>\n",
       "      <td>Recorded By:</td>\n",
       "      <td>Egyptian astronomers</td>\n",
       "    </tr>\n",
       "  </tbody>\n",
       "</table>\n",
       "</div>"
      ],
      "text/plain": [
       "                      0                              1\n",
       "0  Equatorial Diameter:                       6,792 km\n",
       "1       Polar Diameter:                       6,752 km\n",
       "2                 Mass:  6.39 × 10^23 kg (0.11 Earths)\n",
       "3                Moons:            2 (Phobos & Deimos)\n",
       "4       Orbit Distance:       227,943,824 km (1.38 AU)\n",
       "5         Orbit Period:           687 days (1.9 years)\n",
       "6  Surface Temperature:                   -87 to -5 °C\n",
       "7         First Record:              2nd millennium BC\n",
       "8          Recorded By:           Egyptian astronomers"
      ]
     },
     "execution_count": 64,
     "metadata": {},
     "output_type": "execute_result"
    }
   ],
   "source": [
    "\"\"\"Scraping Mars Facts webpage for planet info\"\"\"\n",
    "\n",
    "# Create path for mars facts url and use pandas to read the url into HTML table string\n",
    "mfacts_url = \"https://space-facts.com/mars/\"\n",
    "planet_profile = pd.read_html(mfacts_url)\n",
    "planet_profile\n",
    "\n",
    "# read only mars data \n",
    "mars_table = planet_profile[0]\n",
    "mars_table\n"
   ]
  },
  {
   "cell_type": "code",
   "execution_count": 65,
   "metadata": {},
   "outputs": [],
   "source": [
    "\"\"\"Obtain high res images for each of Mar's hemispheres from USGS Astrogeology site\"\"\"\n",
    "\n",
    "# Path to USGS Astrogeology site and open in browser\n",
    "usgs_url = \"https://astrogeology.usgs.gov/search/results?q=hemisphere+enhanced&k1=target&v1=Mars\"\n",
    "browser.visit(usgs_url)\n",
    "\n",
    "# Variables for browser init and cleaning data through bs\n",
    "usgs_html = browser.html\n",
    "usgs_soup = bs(usgs_html, \"html.parser\")"
   ]
  },
  {
   "cell_type": "code",
   "execution_count": 79,
   "metadata": {},
   "outputs": [
    {
     "data": {
      "text/plain": [
       "[{'title': 'Cerberus Hemisphere Enhanced',\n",
       "  'img_url': 'https://astropedia.astrogeology.usgs.gov/download/Mars/Viking/cerberus_enhanced.tif/full.jpg'},\n",
       " {'title': 'Schiaparelli Hemisphere Enhanced',\n",
       "  'img_url': 'https://astropedia.astrogeology.usgs.gov/download/Mars/Viking/schiaparelli_enhanced.tif/full.jpg'},\n",
       " {'title': 'Syrtis Major Hemisphere Enhanced',\n",
       "  'img_url': 'https://astropedia.astrogeology.usgs.gov/download/Mars/Viking/syrtis_major_enhanced.tif/full.jpg'},\n",
       " {'title': 'Valles Marineris Hemisphere Enhanced',\n",
       "  'img_url': 'https://astropedia.astrogeology.usgs.gov/download/Mars/Viking/valles_marineris_enhanced.tif/full.jpg'}]"
      ]
     },
     "execution_count": 79,
     "metadata": {},
     "output_type": "execute_result"
    }
   ],
   "source": [
    "# Create empty list for hemisphere photos\n",
    "hemisphere_image_urls = []\n",
    "\n",
    "# Create a loop to append title and image url into empty list from the images\n",
    "images = usgs_soup.find_all(\"div\", class_ = \"item\")\n",
    "\n",
    "for image in images:\n",
    "    # Create dictionary to house each link and title individually before appending to list\n",
    "    hemisphere_info = {}\n",
    "    \n",
    "    # title\n",
    "    hemisphere_info[\"title\"] = image.find(\"h3\").text\n",
    "    \n",
    "    # follow individual link to full size image\n",
    "    img_src = image.find(\"a\")[\"href\"]\n",
    "    img_link = f\"https://astrogeology.usgs.gov{img_src}\"\n",
    "    browser.visit(img_link)\n",
    "    img_html = browser.html\n",
    "    img_soup = bs(img_html, \"html.parser\")\n",
    "    \n",
    "    # image url\n",
    "    img_url = img_soup.find(\"div\", class_ = \"downloads\").a[\"href\"]\n",
    "    hemisphere_info[\"img_url\"] = img_url\n",
    "    \n",
    "    # append info to hemisphere_image_urls\n",
    "    hemisphere_image_urls.append(hemisphere_info)\n",
    "\n",
    "hemisphere_image_urls"
   ]
  },
  {
   "cell_type": "code",
   "execution_count": null,
   "metadata": {},
   "outputs": [],
   "source": []
  }
 ],
 "metadata": {
  "kernelspec": {
   "display_name": "Python 3",
   "language": "python",
   "name": "python3"
  },
  "language_info": {
   "codemirror_mode": {
    "name": "ipython",
    "version": 3
   },
   "file_extension": ".py",
   "mimetype": "text/x-python",
   "name": "python",
   "nbconvert_exporter": "python",
   "pygments_lexer": "ipython3",
   "version": "3.7.6"
  }
 },
 "nbformat": 4,
 "nbformat_minor": 4
}
